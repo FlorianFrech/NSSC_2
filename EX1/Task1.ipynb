{
 "cells": [
  {
   "cell_type": "code",
   "execution_count": 1,
   "metadata": {},
   "outputs": [
    {
     "name": "stdout",
     "output_type": "stream",
     "text": [
      "Total L2 cache for regular compute nodes: 275.0 MB\n",
      "Total L2 cache for fat compute nodes: 55.0 MB\n",
      "Total sum of all L2 caches for 2 nodes: 330.0 MB\n"
     ]
    }
   ],
   "source": [
    "# L2 cache size for each type of node \n",
    "L2_regular_node = 27.5  # L2 cache size for regular compute node\n",
    "L2_fat_node = 27.5  # L2 cache size for fat compute node\n",
    "\n",
    "# Number of nodes in regular and fat compute nodes\n",
    "n_regular = 10  # Number of regular compute nodes\n",
    "n_fat = 2  # Number of fat compute nodes\n",
    "\n",
    "# Total L2 cache size for all regular compute nodes\n",
    "total_L2_regular = L2_regular_node * n_regular\n",
    "\n",
    "# Total L2 cache size for all fat compute nodes\n",
    "total_L2_fat = L2_fat_node * n_fat\n",
    "\n",
    "# Sum of all L2 caches for 2 nodes of the IUE-cluster\n",
    "total_L2_cache = total_L2_regular + total_L2_fat\n",
    "\n",
    "# Result\n",
    "print(\"Total L2 cache for regular compute nodes:\", total_L2_regular, \"MB\")\n",
    "print(\"Total L2 cache for fat compute nodes:\", total_L2_fat, \"MB\")\n",
    "print(\"Total sum of all L2 caches for 2 nodes:\", total_L2_cache, \"MB\")"
   ]
  }
 ],
 "metadata": {
  "kernelspec": {
   "display_name": "Python 3",
   "language": "python",
   "name": "python3"
  },
  "language_info": {
   "codemirror_mode": {
    "name": "ipython",
    "version": 3
   },
   "file_extension": ".py",
   "mimetype": "text/x-python",
   "name": "python",
   "nbconvert_exporter": "python",
   "pygments_lexer": "ipython3",
   "version": "3.12.2"
  }
 },
 "nbformat": 4,
 "nbformat_minor": 2
}
